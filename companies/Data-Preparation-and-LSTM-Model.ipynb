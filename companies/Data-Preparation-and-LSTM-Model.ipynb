{
 "cells": [
  {
   "cell_type": "markdown",
   "metadata": {},
   "source": [
    "Let's Scrape News Articles about the Companies\n",
    "---"
   ]
  },
  {
   "cell_type": "code",
   "execution_count": 1,
   "metadata": {},
   "outputs": [
    {
     "name": "stderr",
     "output_type": "stream",
     "text": [
      "Using TensorFlow backend.\n"
     ]
    }
   ],
   "source": [
    "import newspaper \n",
    "import bs4 as bs\n",
    "import requests\n",
    "import spacy\n",
    "import re\n",
    "import pandas as pd\n",
    "import numpy as np\n",
    "from keras.preprocessing.sequence import pad_sequences\n",
    "import pickle\n",
    "import os "
   ]
  },
  {
   "cell_type": "code",
   "execution_count": 2,
   "metadata": {
    "collapsed": true
   },
   "outputs": [],
   "source": [
    "def tokenize(sent):\n",
    "    return [x.strip() for x in re.split('(\\W+)?', sent) if x.strip()]"
   ]
  },
  {
   "cell_type": "code",
   "execution_count": 3,
   "metadata": {
    "collapsed": true
   },
   "outputs": [],
   "source": [
    "# Top Tech Companies\n",
    "ticker_tech_comp = ['GOOG', \"AMZN\", \"FB\", \"AAPL\", \"MSFT\"]\n",
    "tech_comp = [\"google\",\"amazon\",\"facebook\",\"apple\",\"microsoft\"]"
   ]
  },
  {
   "cell_type": "markdown",
   "metadata": {},
   "source": [
    "Which News Site did I use?\n",
    "----\n",
    "I chose to scrape articles from The Verge because after looking at several sources (eg. CNN, techcrunch, etc...) I was able to scrape articles about the companies in a wider date range, which is important as my financial data runs from March, 24, 2014 to the current day"
   ]
  },
  {
   "cell_type": "code",
   "execution_count": 103,
   "metadata": {
    "collapsed": true
   },
   "outputs": [],
   "source": [
    "theverge_paper = newspaper.build('https://www.theverge.com/tech', memoize_articles=False)"
   ]
  },
  {
   "cell_type": "code",
   "execution_count": 159,
   "metadata": {
    "collapsed": true
   },
   "outputs": [],
   "source": [
    "with open(\"theverge_paper.pickle\", \"wb\") as f:\n",
    "    pickle.dump(theverge_paper.articles, f)"
   ]
  },
  {
   "cell_type": "markdown",
   "metadata": {},
   "source": [
    "How do I determine if the News Article is Relevant?\n",
    "---\n",
    "To determine if an article is talking about a specific company, I run through the company urls which contains the article's title. If the company name is in the title, then I conclude that means that the article is about the company."
   ]
  },
  {
   "cell_type": "code",
   "execution_count": 242,
   "metadata": {
    "collapsed": true
   },
   "outputs": [],
   "source": [
    "# Create a tuple with the article and the article url\n",
    "goog_verge = []\n",
    "amzn_verge = []\n",
    "fb_verge = []\n",
    "apple_verge = []\n",
    "msft_verge = []\n",
    "\n",
    "for article in theverge_paper.articles:\n",
    "    for comp in tech_comp:\n",
    "        if comp in article.url and comp is \"google\" and \"comment\" not in article.url:\n",
    "            goog_verge.append((article, article.url))\n",
    "        if comp in article.url and comp is \"amazon\" and \"comment\" not in article.url:\n",
    "            amzn_verge.append((article, article.url))\n",
    "        if comp in article.url and comp is \"facebook\" and \"comment\" not in article.url:\n",
    "            fb_verge.append((article, article.url))\n",
    "        if comp in article.url and comp is \"apple\" and \"comment\" not in article.url:\n",
    "            apple_verge.append((article, article.url))\n",
    "        if comp in article.url and comp is \"microsoft\" and \"comment\" not in article.url:\n",
    "            msft_verge.append((article, article.url))\n",
    "            "
   ]
  },
  {
   "cell_type": "code",
   "execution_count": 402,
   "metadata": {
    "collapsed": true
   },
   "outputs": [],
   "source": [
    "# Convert the article objects into texts, but retain the tuple shape\n",
    "for i in range(len(goog_verge)):\n",
    "    goog_verge[i] = (goog_verge[i][0].text, goog_verge[i][1])\n",
    "    \n",
    "for i in range(len(amzn_verge)):\n",
    "    amzn_verge[i] = (amzn_verge[i][0].text, amzn_verge[i][1])\n",
    "\n",
    "for i in range(len(fb_verge)):\n",
    "    fb_verge[i] = (fb_verge[i][0].text, fb_verge[i][1])\n",
    "\n",
    "for i in range(len(apple_verge)):\n",
    "    apple_verge[i] = (apple_verge[i][0].text, apple_verge[i][1])\n",
    "\n",
    "for i in range(len(msft_verge)):\n",
    "    msft_verge[i] = (msft_verge[i][0].text, msft_verge[i][1])\n"
   ]
  },
  {
   "cell_type": "markdown",
   "metadata": {},
   "source": [
    "Pickle Articles\n",
    "----\n",
    "If the articles have already been pickled, the articles will be loaded"
   ]
  },
  {
   "cell_type": "code",
   "execution_count": 4,
   "metadata": {},
   "outputs": [],
   "source": [
    "# Pickle all of the modified articles so it can just be loaded\n",
    "if not os.path.exists('articles'):\n",
    "    with open(\"articles/google_article.pickle\", \"wb\") as f:\n",
    "        pickle.dump(goog_verge, f)\n",
    "\n",
    "    with open(\"articles/amazon_article.pickle\", \"wb\") as f:\n",
    "        pickle.dump(amzn_verge, f)\n",
    "\n",
    "    with open(\"articles/facebook_article.pickle\", \"wb\") as f:\n",
    "        pickle.dump(fb_verge, f)\n",
    "\n",
    "    with open(\"articles/apple_article.pickle\", \"wb\") as f:\n",
    "        pickle.dump(apple_verge, f)\n",
    "\n",
    "    with open(\"articles/microsoft_article.pickle\", \"wb\") as f:\n",
    "        pickle.dump(msft_verge, f)\n",
    "\n",
    "else:\n",
    "    goog_verge = pickle.load(open(\"articles/google_article.pickle\", \"rb\"))\n",
    "    amzn_verge = pickle.load(open(\"articles/amazon_article.pickle\", \"rb\"))\n",
    "    fb_verge = pickle.load(open(\"articles/facebook_article.pickle\", \"rb\"))\n",
    "    apple_verge = pickle.load(open(\"articles/apple_article.pickle\", \"rb\"))\n",
    "    msft_verge = pickle.load(open(\"articles/microsoft_article.pickle\", \"rb\"))\n",
    "\n"
   ]
  },
  {
   "cell_type": "markdown",
   "metadata": {},
   "source": [
    "Next we want to create a vocabularly list for each of the words used in the article.\n",
    "We will put this in a dictionary with an index associated with each of the vocab keys"
   ]
  },
  {
   "cell_type": "markdown",
   "metadata": {},
   "source": [
    "How do we represent the text as vectors?\n",
    "----\n",
    "First, we will create a vocabularly of all the words seen in the current articles. This will be a dictionary of all the words with an associated index next to it. For future articles seen, if there are unknown words that are not found in the vocabulary, I have allocated the last index as an unknown vocab slot, so that any unseen words will simply be given that index"
   ]
  },
  {
   "cell_type": "code",
   "execution_count": 5,
   "metadata": {},
   "outputs": [
    {
     "name": "stderr",
     "output_type": "stream",
     "text": [
      "/Users/Angus/anaconda/lib/python3.6/re.py:212: FutureWarning: split() requires a non-empty pattern match.\n",
      "  return _compile(pattern, flags).split(string, maxsplit)\n"
     ]
    }
   ],
   "source": [
    "# Run through each article and append new vocab in vocab list\n",
    "vocab = set()\n",
    "    \n",
    "for i in range(len(goog_verge)):\n",
    "    vocab |= set((tokenize(goog_verge[i][0])))\n",
    "    \n",
    "for i in range(len(amzn_verge)):\n",
    "    vocab |= set((tokenize(amzn_verge[i][0])))\n",
    "\n",
    "for i in range(len(fb_verge)):\n",
    "    vocab |= set((tokenize(fb_verge[i][0])))\n",
    "\n",
    "for i in range(len(apple_verge)):\n",
    "    vocab |= set((tokenize(apple_verge[i][0])))\n",
    "\n",
    "for i in range(len(msft_verge)):\n",
    "    vocab |= set((tokenize(msft_verge[i][0])))\n",
    "    "
   ]
  },
  {
   "cell_type": "code",
   "execution_count": 6,
   "metadata": {
    "collapsed": true
   },
   "outputs": [],
   "source": [
    "# Put in a dictionary with an index for each of the vocabulary\n",
    "# Reserve 0 for masking via pad_sequences\n",
    "vocab = sorted(vocab)\n",
    "vocab_id = dict((word, i + 1) for i, word in enumerate(vocab))\n",
    "vocab_size = len(vocab) + 1"
   ]
  },
  {
   "cell_type": "markdown",
   "metadata": {},
   "source": [
    "Finding Maximum Article Length\n",
    "---\n",
    "We wish to find the max length of all the articles so that when we put it into the model all of it will be the same size, and thus the model will be able to use it as input. For articles less than max length, simply append 0 onto the end of the vector until it reaches the max length"
   ]
  },
  {
   "cell_type": "code",
   "execution_count": 7,
   "metadata": {},
   "outputs": [
    {
     "name": "stderr",
     "output_type": "stream",
     "text": [
      "/Users/Angus/anaconda/lib/python3.6/re.py:212: FutureWarning: split() requires a non-empty pattern match.\n",
      "  return _compile(pattern, flags).split(string, maxsplit)\n"
     ]
    }
   ],
   "source": [
    "# Get the max article length for tokenize \n",
    "article_len = []\n",
    "\n",
    "for i in range(len(goog_verge)):\n",
    "    article_len.append(len(tokenize(goog_verge[i][0])))\n",
    "    \n",
    "for i in range(len(amzn_verge)):\n",
    "    article_len.append(len(tokenize(amzn_verge[i][0])))\n",
    "    \n",
    "for i in range(len(fb_verge)):\n",
    "    article_len.append(len(tokenize(fb_verge[i][0])))\n",
    "    \n",
    "for i in range(len(apple_verge)):\n",
    "    article_len.append(len(tokenize(apple_verge[i][0])))\n",
    "    \n",
    "for i in range(len(msft_verge)):\n",
    "    article_len.append(len(tokenize(msft_verge[i][0])))\n",
    "    \n",
    "article_maxlen = max(article_len)"
   ]
  },
  {
   "cell_type": "code",
   "execution_count": 8,
   "metadata": {
    "collapsed": true
   },
   "outputs": [],
   "source": [
    "def vectorize(article, vocab_id, article_maxlen):\n",
    "    word_id = []\n",
    "    for word in article:\n",
    "        word_id.append(vocab_id[word]) \n",
    "    return pad_sequences([word_id], maxlen=article_maxlen)"
   ]
  },
  {
   "cell_type": "code",
   "execution_count": 9,
   "metadata": {
    "collapsed": true
   },
   "outputs": [],
   "source": [
    "goog_vect_verge = goog_verge \n",
    "amzn_vect_verge = amzn_verge \n",
    "fb_vect_verge = fb_verge \n",
    "apple_vect_verge = apple_verge \n",
    "msft_vect_verge = msft_verge "
   ]
  },
  {
   "cell_type": "code",
   "execution_count": 10,
   "metadata": {},
   "outputs": [
    {
     "data": {
      "text/plain": [
       "'\\nfor i in range(len(goog_vect_verge)):\\n    goog_vect_verge[i][0] = vectorize(tokenize(goog_vect_verge[i][0]), vocab_id, article_maxlen)\\n    \\nfor i in range(len(amzn_vect_verge)):\\n    article_len.append(len(tokenize(amzn_verge[i][0])))\\n    \\nfor i in range(len(fb_vect_verge)):\\n    article_len.append(len(tokenize(fb_verge[i][0])))\\n    \\nfor i in range(len(apple_vect_verge)):\\n    article_len.append(len(tokenize(apple_verge[i][0])))\\n    \\nfor i in range(len(msft_vect_verge)):\\n    article_len.append(len(tokenize(msft_verge[i][0])))\\n'"
      ]
     },
     "execution_count": 10,
     "metadata": {},
     "output_type": "execute_result"
    }
   ],
   "source": [
    "'''\n",
    "for i in range(len(goog_vect_verge)):\n",
    "    goog_vect_verge[i][0] = vectorize(tokenize(goog_vect_verge[i][0]), vocab_id, article_maxlen)\n",
    "    \n",
    "for i in range(len(amzn_vect_verge)):\n",
    "    article_len.append(len(tokenize(amzn_verge[i][0])))\n",
    "    \n",
    "for i in range(len(fb_vect_verge)):\n",
    "    article_len.append(len(tokenize(fb_verge[i][0])))\n",
    "    \n",
    "for i in range(len(apple_vect_verge)):\n",
    "    article_len.append(len(tokenize(apple_verge[i][0])))\n",
    "    \n",
    "for i in range(len(msft_vect_verge)):\n",
    "    article_len.append(len(tokenize(msft_verge[i][0])))\n",
    "'''"
   ]
  },
  {
   "cell_type": "code",
   "execution_count": 11,
   "metadata": {},
   "outputs": [
    {
     "name": "stderr",
     "output_type": "stream",
     "text": [
      "/Users/Angus/anaconda/lib/python3.6/re.py:212: FutureWarning: split() requires a non-empty pattern match.\n",
      "  return _compile(pattern, flags).split(string, maxsplit)\n"
     ]
    }
   ],
   "source": [
    "# Convert the text into vector representations\n",
    "for i in range(len(goog_vect_verge)):\n",
    "    goog_vect_verge[i] = (vectorize(tokenize(goog_vect_verge[i][0]), \n",
    "                                    vocab_id, \n",
    "                                    article_maxlen), \n",
    "                          goog_vect_verge[i][1])\n",
    "\n",
    "for i in range(len(amzn_vect_verge)):\n",
    "    amzn_vect_verge[i] = (vectorize(tokenize(amzn_vect_verge[i][0]), \n",
    "                                    vocab_id, \n",
    "                                    article_maxlen), \n",
    "                          amzn_vect_verge[i][1])\n",
    "\n",
    "for i in range(len(fb_vect_verge)):\n",
    "    fb_vect_verge[i] = (vectorize(tokenize(fb_vect_verge[i][0]), \n",
    "                                    vocab_id, \n",
    "                                    article_maxlen), \n",
    "                          fb_vect_verge[i][1])\n",
    "    \n",
    "for i in range(len(apple_vect_verge)):\n",
    "    apple_vect_verge[i] = (vectorize(tokenize(apple_vect_verge[i][0]), \n",
    "                                    vocab_id, \n",
    "                                    article_maxlen), \n",
    "                          apple_vect_verge[i][1])\n",
    "    \n",
    "for i in range(len(msft_vect_verge)):\n",
    "    msft_vect_verge[i] = (vectorize(tokenize(msft_vect_verge[i][0]), \n",
    "                                    vocab_id, \n",
    "                                    article_maxlen), \n",
    "                          msft_vect_verge[i][1])\n"
   ]
  },
  {
   "cell_type": "markdown",
   "metadata": {},
   "source": [
    "How did I fill in the missing Gaps for dates without articles\n",
    "----\n",
    "\n",
    "Since we only had ~20 articles spanning different dates from 2014-2017 since we were unable to scrape enough articles, I simply converted all of these articles into vector representations and filled in the spots where the articles were applicable. For example, if an article was released on May 1, 2017, I would use that article for the prediction for May 2, 2017. Also, since there were a lot of empty slots, i simply used the last seen article, for the empty slots; the idea being that the last seen article will affect future stock prices (this is the fillna ffill method)"
   ]
  },
  {
   "cell_type": "code",
   "execution_count": 12,
   "metadata": {},
   "outputs": [],
   "source": [
    "df_goog = pd.read_csv('final_stock_features_with_date_dfs/{}.csv'.format('GOOG'))\n",
    "vect_holder = pd.DataFrame(np.zeros((len(df_goog),article_maxlen)))\n",
    "vect_holder = vect_holder.replace(0,np.nan)\n",
    "df_goog = pd.concat([df_goog, vect_holder], axis=1)\n",
    "df_goog.set_index('Date', inplace=True)"
   ]
  },
  {
   "cell_type": "code",
   "execution_count": 659,
   "metadata": {
    "collapsed": true
   },
   "outputs": [],
   "source": [
    "df_amzn = pd.read_csv('final_stock_features_with_date_dfs/{}.csv'.format('AMZN'))\n",
    "df_amzn = pd.concat([df_amzn, vect_holder], axis=1)\n",
    "df_amzn.set_index('Date', inplace=True)"
   ]
  },
  {
   "cell_type": "code",
   "execution_count": 674,
   "metadata": {
    "collapsed": true
   },
   "outputs": [],
   "source": [
    "df_fb = pd.read_csv('final_stock_features_with_date_dfs/{}.csv'.format('FB'))\n",
    "df_fb = pd.concat([df_fb, vect_holder], axis=1)\n",
    "df_fb.set_index('Date', inplace=True)"
   ]
  },
  {
   "cell_type": "code",
   "execution_count": 703,
   "metadata": {
    "collapsed": true
   },
   "outputs": [],
   "source": [
    "df_apple = pd.read_csv('final_stock_features_with_date_dfs/{}.csv'.format('AAPL'))\n",
    "df_apple = pd.concat([df_apple, vect_holder], axis=1)\n",
    "df_apple.set_index('Date', inplace=True)"
   ]
  },
  {
   "cell_type": "code",
   "execution_count": 709,
   "metadata": {
    "collapsed": true
   },
   "outputs": [],
   "source": [
    "df_msft = pd.read_csv('final_stock_features_with_date_dfs/{}.csv'.format('MSFT'))\n",
    "df_msft = pd.concat([df_msft, vect_holder], axis=1)\n",
    "df_msft.set_index('Date', inplace=True)"
   ]
  },
  {
   "cell_type": "markdown",
   "metadata": {},
   "source": [
    "Issues with Missing Articles\n",
    "---\n",
    "Unfortunately, this part was done mostly manually as there were a lot of missing articles, in the future, it is important to find a reliable source of articles for all the dates possible"
   ]
  },
  {
   "cell_type": "code",
   "execution_count": 13,
   "metadata": {
    "collapsed": true
   },
   "outputs": [],
   "source": [
    "df_goog.loc[\"2017-06-23\",list(range(article_maxlen))] = list(goog_vect_verge[0][0].astype(int))\n",
    "df_goog.loc[\"2017-06-15\",list(range(article_maxlen))] = list(goog_vect_verge[1][0].astype(int))\n",
    "df_goog.loc[\"2017-06-13\",list(range(article_maxlen))] = list(goog_vect_verge[2][0].astype(int))\n",
    "df_goog.loc[\"2017-06-20\",list(range(article_maxlen))] = list(goog_vect_verge[3][0].astype(int))\n",
    "df_goog.loc[\"2017-06-19\",list(range(article_maxlen))] = list(goog_vect_verge[4][0].astype(int))\n",
    "df_goog.loc[\"2017-06-13\",list(range(article_maxlen))] = list(goog_vect_verge[5][0].astype(int))\n",
    "df_goog.loc[\"2017-06-07\",list(range(article_maxlen))] = list(goog_vect_verge[6][0].astype(int))\n",
    "df_goog.loc[\"2017-04-24\",list(range(article_maxlen))] = list(goog_vect_verge[7][0].astype(int))\n",
    "df_goog.loc[\"2017-06-02\",list(range(article_maxlen))] = list(goog_vect_verge[8][0].astype(int))\n",
    "df_goog.loc[\"2017-05-25\",list(range(article_maxlen))] = list(goog_vect_verge[9][0].astype(int))\n",
    "df_goog.loc[\"2017-05-18\",list(range(article_maxlen))] = list(goog_vect_verge[10][0].astype(int))\n",
    "df_goog.loc[\"2017-05-11\",list(range(article_maxlen))] = list(goog_vect_verge[11][0].astype(int))\n",
    "df_goog.loc[\"2017-04-28\",list(range(article_maxlen))] = list(goog_vect_verge[12][0].astype(int))\n",
    "df_goog.loc[\"2017-04-27\",list(range(article_maxlen))] = list(goog_vect_verge[13][0].astype(int))\n",
    "df_goog.loc[\"2016-10-19\",list(range(article_maxlen))] = list(goog_vect_verge[14][0].astype(int))\n",
    "df_goog.loc[\"2017-05-31\",list(range(article_maxlen))] = list(goog_vect_verge[15][0].astype(int))\n",
    "df_goog.loc[\"2015-12-09\",list(range(article_maxlen))] = list(goog_vect_verge[16][0].astype(int))\n",
    "df_goog.loc[\"2014-03-28\",list(range(article_maxlen))] = list(goog_vect_verge[17][0].astype(int))\n",
    "df_goog.loc[\"2016-12-19\",list(range(article_maxlen))] = list(goog_vect_verge[18][0].astype(int))"
   ]
  },
  {
   "cell_type": "code",
   "execution_count": 14,
   "metadata": {
    "collapsed": true
   },
   "outputs": [],
   "source": [
    "df_goog.fillna(method='ffill', inplace=True)"
   ]
  },
  {
   "cell_type": "code",
   "execution_count": 660,
   "metadata": {
    "collapsed": true
   },
   "outputs": [],
   "source": [
    "df_amzn.loc[\"2017-05-10\",list(range(article_maxlen))] = list(amzn_vect_verge[0][0][0])\n",
    "df_amzn.loc[\"2017-06-23\",list(range(article_maxlen))] = list(amzn_vect_verge[1][0][0])\n",
    "df_amzn.loc[\"2017-06-06\",list(range(article_maxlen))] = list(amzn_vect_verge[2][0][0])\n",
    "df_amzn.loc[\"2017-06-21\",list(range(article_maxlen))] = list(amzn_vect_verge[3][0][0])\n",
    "df_amzn.loc[\"2017-06-19\",list(range(article_maxlen))] = list(amzn_vect_verge[4][0][0])\n",
    "df_amzn.loc[\"2017-06-15\",list(range(article_maxlen))] = list(amzn_vect_verge[5][0][0])\n",
    "df_amzn.loc[\"2017-06-07\",list(range(article_maxlen))] = list(amzn_vect_verge[6][0][0])\n",
    "df_amzn.loc[\"2016-07-29\",list(range(article_maxlen))] = list(amzn_vect_verge[9][0][0])\n",
    "df_amzn.loc[\"2017-06-20\",list(range(article_maxlen))] = list(amzn_vect_verge[10][0][0])\n",
    "df_amzn.loc[\"2017-06-13\",list(range(article_maxlen))] = list(amzn_vect_verge[11][0][0])\n",
    "df_amzn.loc[\"2017-06-12\",list(range(article_maxlen))] = list(amzn_vect_verge[12][0][0])\n",
    "df_amzn.loc[\"2017-05-23\",list(range(article_maxlen))] = list(amzn_vect_verge[13][0][0])\n",
    "df_amzn.loc[\"2014-03-28\",list(range(article_maxlen))] = list(amzn_vect_verge[14][0][0])\n"
   ]
  },
  {
   "cell_type": "code",
   "execution_count": 725,
   "metadata": {
    "collapsed": true
   },
   "outputs": [],
   "source": [
    "df_amzn.fillna(method='ffill', inplace=True)"
   ]
  },
  {
   "cell_type": "code",
   "execution_count": 675,
   "metadata": {
    "collapsed": true
   },
   "outputs": [],
   "source": [
    "df_fb.loc[\"2017-06-23\",list(range(article_maxlen))] = list(fb_vect_verge[0][0][0])\n",
    "df_fb.loc[\"2017-06-12\",list(range(article_maxlen))] = list(fb_vect_verge[1][0][0])\n",
    "df_fb.loc[\"2017-06-08\",list(range(article_maxlen))] = list(fb_vect_verge[2][0][0])\n",
    "df_fb.loc[\"2017-06-06\",list(range(article_maxlen))] = list(fb_vect_verge[3][0][0])\n",
    "df_fb.loc[\"2017-06-19\",list(range(article_maxlen))] = list(fb_vect_verge[5][0][0])\n",
    "df_fb.loc[\"2017-06-09\",list(range(article_maxlen))] = list(fb_vect_verge[6][0][0])\n",
    "df_fb.loc[\"2017-05-19\",list(range(article_maxlen))] = list(fb_vect_verge[7][0][0])\n",
    "df_fb.loc[\"2017-04-26\",list(range(article_maxlen))] = list(fb_vect_verge[8][0][0])\n",
    "df_fb.loc[\"2017-06-14\",list(range(article_maxlen))] = list(fb_vect_verge[9][0][0])\n",
    "df_fb.loc[\"2017-05-30\",list(range(article_maxlen))] = list(fb_vect_verge[10][0][0])\n",
    "df_fb.loc[\"2017-06-01\",list(range(article_maxlen))] = list(fb_vect_verge[11][0][0])\n",
    "df_fb.loc[\"2017-04-20\",list(range(article_maxlen))] = list(fb_vect_verge[12][0][0])\n",
    "df_fb.loc[\"2017-05-26\",list(range(article_maxlen))] = list(fb_vect_verge[13][0][0])\n",
    "df_fb.loc[\"2017-04-17\",list(range(article_maxlen))] = list(fb_vect_verge[14][0][0])\n",
    "df_fb.loc[\"2014-03-28\",list(range(article_maxlen))] = list(fb_vect_verge[15][0][0])"
   ]
  },
  {
   "cell_type": "code",
   "execution_count": 726,
   "metadata": {
    "collapsed": true
   },
   "outputs": [],
   "source": [
    "df_fb.fillna(method='ffill', inplace=True)"
   ]
  },
  {
   "cell_type": "code",
   "execution_count": 704,
   "metadata": {
    "collapsed": true
   },
   "outputs": [],
   "source": [
    "df_apple.loc[\"2017-06-23\",list(range(article_maxlen))] = list(apple_vect_verge[0][0][0])\n",
    "df_apple.loc[\"2017-06-06\",list(range(article_maxlen))] = list(apple_vect_verge[2][0][0])\n",
    "df_apple.loc[\"2017-05-03\",list(range(article_maxlen))] = list(apple_vect_verge[4][0][0])\n",
    "df_apple.loc[\"2017-06-15\",list(range(article_maxlen))] = list(apple_vect_verge[5][0][0])\n",
    "df_apple.loc[\"2017-06-14\",list(range(article_maxlen))] = list(apple_vect_verge[6][0][0])\n",
    "df_apple.loc[\"2017-06-13\",list(range(article_maxlen))] = list(apple_vect_verge[7][0][0])\n",
    "df_apple.loc[\"2017-06-08\",list(range(article_maxlen))] = list(apple_vect_verge[9][0][0])\n",
    "df_apple.loc[\"2017-04-21\",list(range(article_maxlen))] = list(apple_vect_verge[10][0][0])\n",
    "df_apple.loc[\"2017-06-01\",list(range(article_maxlen))] = list(apple_vect_verge[11][0][0])\n",
    "df_apple.loc[\"2017-05-30\",list(range(article_maxlen))] = list(apple_vect_verge[12][0][0])\n",
    "df_apple.loc[\"2017-05-26\",list(range(article_maxlen))] = list(apple_vect_verge[13][0][0])\n",
    "df_apple.loc[\"2016-11-15\",list(range(article_maxlen))] = list(apple_vect_verge[14][0][0])\n",
    "df_apple.loc[\"2016-11-03\",list(range(article_maxlen))] = list(apple_vect_verge[15][0][0])\n",
    "df_apple.loc[\"2016-05-06\",list(range(article_maxlen))] = list(apple_vect_verge[16][0][0])\n",
    "df_apple.loc[\"2015-04-10\",list(range(article_maxlen))] = list(apple_vect_verge[17][0][0])\n",
    "df_apple.loc[\"2017-05-17\",list(range(article_maxlen))] = list(apple_vect_verge[18][0][0])\n",
    "df_apple.loc[\"2017-04-26\",list(range(article_maxlen))] = list(apple_vect_verge[19][0][0])\n",
    "df_apple.loc[\"2016-03-31\",list(range(article_maxlen))] = list(apple_vect_verge[20][0][0])\n",
    "df_apple.loc[\"2015-11-12\",list(range(article_maxlen))] = list(apple_vect_verge[22][0][0])\n",
    "df_apple.loc[\"2015-09-29\",list(range(article_maxlen))] = list(apple_vect_verge[23][0][0])\n",
    "df_apple.loc[\"2014-10-21\",list(range(article_maxlen))] = list(apple_vect_verge[24][0][0])\n",
    "df_apple.loc[\"2014-03-28\",list(range(article_maxlen))] = list(apple_vect_verge[24][0][0])\n"
   ]
  },
  {
   "cell_type": "code",
   "execution_count": 727,
   "metadata": {
    "collapsed": true
   },
   "outputs": [],
   "source": [
    "df_apple.fillna(method='ffill', inplace=True)"
   ]
  },
  {
   "cell_type": "code",
   "execution_count": 710,
   "metadata": {
    "collapsed": true
   },
   "outputs": [],
   "source": [
    "df_msft.loc[\"2017-06-23\",list(range(article_maxlen))] = list(msft_vect_verge[0][0][0])\n",
    "df_msft.loc[\"2017-06-21\",list(range(article_maxlen))] = list(msft_vect_verge[1][0][0])\n",
    "df_msft.loc[\"2017-06-14\",list(range(article_maxlen))] = list(msft_vect_verge[2][0][0])\n",
    "df_msft.loc[\"2017-06-16\",list(range(article_maxlen))] = list(msft_vect_verge[4][0][0])\n",
    "df_msft.loc[\"2017-06-19\",list(range(article_maxlen))] = list(msft_vect_verge[6][0][0])\n",
    "df_msft.loc[\"2017-06-13\",list(range(article_maxlen))] = list(msft_vect_verge[7][0][0])\n",
    "df_msft.loc[\"2017-06-12\",list(range(article_maxlen))] = list(msft_vect_verge[8][0][0])\n",
    "df_msft.loc[\"2017-05-30\",list(range(article_maxlen))] = list(msft_vect_verge[10][0][0])\n",
    "df_msft.loc[\"2017-05-12\",list(range(article_maxlen))] = list(msft_vect_verge[11][0][0])\n",
    "df_msft.loc[\"2017-03-27\",list(range(article_maxlen))] = list(msft_vect_verge[12][0][0])\n",
    "df_msft.loc[\"2015-12-21\",list(range(article_maxlen))] = list(msft_vect_verge[13][0][0])\n",
    "df_msft.loc[\"2015-11-23\",list(range(article_maxlen))] = list(msft_vect_verge[14][0][0])\n",
    "df_msft.loc[\"2015-10-22\",list(range(article_maxlen))] = list(msft_vect_verge[15][0][0])\n",
    "df_msft.loc[\"2015-04-15\",list(range(article_maxlen))] = list(msft_vect_verge[16][0][0])\n",
    "df_msft.loc[\"2014-05-27\",list(range(article_maxlen))] = list(msft_vect_verge[17][0][0])\n",
    "df_msft.loc[\"2014-03-28\",list(range(article_maxlen))] = list(msft_vect_verge[18][0][0])\n"
   ]
  },
  {
   "cell_type": "code",
   "execution_count": 728,
   "metadata": {
    "collapsed": true
   },
   "outputs": [],
   "source": [
    "df_msft.fillna(method='ffill', inplace=True)"
   ]
  },
  {
   "cell_type": "code",
   "execution_count": 15,
   "metadata": {},
   "outputs": [
    {
     "data": {
      "text/plain": [
       "'\\ndf_amzn.reset_index(inplace=True)\\ndf_fb.reset_index(inplace=True)\\ndf_apple.reset_index(inplace=True)\\ndf_msft.reset_index(inplace=True)\\n'"
      ]
     },
     "execution_count": 15,
     "metadata": {},
     "output_type": "execute_result"
    }
   ],
   "source": [
    "df_goog.reset_index(inplace=True)\n",
    "df_amzn.reset_index(inplace=True)\n",
    "df_fb.reset_index(inplace=True)\n",
    "df_apple.reset_index(inplace=True)\n",
    "df_msft.reset_index(inplace=True)"
   ]
  },
  {
   "cell_type": "markdown",
   "metadata": {},
   "source": [
    "Preparing the Data and What is my x and y?\n",
    "---\n",
    "We will be predicting the percentage change of the stock so that will be y. We will split the data into training and testing. Right now, the x contains both the articles and the stock features, we will be splitting the x sets further into the stock and articles later. Finally, we will normalize the past stock data so it is faster to train."
   ]
  },
  {
   "cell_type": "code",
   "execution_count": 16,
   "metadata": {},
   "outputs": [
    {
     "data": {
      "text/plain": [
       "'\\namzn_x_train, amzn_x_test, amzn_y_train, amzn_y_test = train_test_split(df_amzn.drop([\"Date\", \"Perc_Change_1d\"], axis=1), df_amzn[\"Perc_Change_1d\"], test_size=0.33, random_state=42)\\nfb_x_train, fb_x_test, fb_y_train, fb_y_test = train_test_split(df_fb.drop([\"Date\", \"Perc_Change_1d\"], axis=1), df_fb[\"Perc_Change_1d\"], test_size=0.33, random_state=42)\\napple_x_train, apple_x_test, apple_y_train, apple_y_test = train_test_split(df_apple.drop([\"Date\", \"Perc_Change_1d\"], axis=1), df_apple[\"Perc_Change_1d\"], test_size=0.33, random_state=42)\\nmsft_x_train, msft_x_test, msft_y_train, msft_y_test = train_test_split(df_msft.drop([\"Date\", \"Perc_Change_1d\"], axis=1), df_msft[\"Perc_Change_1d\"], test_size=0.33, random_state=42)\\n'"
      ]
     },
     "execution_count": 16,
     "metadata": {},
     "output_type": "execute_result"
    }
   ],
   "source": [
    "from sklearn.model_selection import train_test_split\n",
    "goog_x_train, goog_x_test, goog_y_train, goog_y_test = train_test_split(df_goog.drop([\"Date\", \"Perc_Change_1d\"], axis=1), df_goog[\"Perc_Change_1d\"], test_size=0.33, random_state=42)\n",
    "amzn_x_train, amzn_x_test, amzn_y_train, amzn_y_test = train_test_split(df_amzn.drop([\"Date\", \"Perc_Change_1d\"], axis=1), df_amzn[\"Perc_Change_1d\"], test_size=0.33, random_state=42)\n",
    "fb_x_train, fb_x_test, fb_y_train, fb_y_test = train_test_split(df_fb.drop([\"Date\", \"Perc_Change_1d\"], axis=1), df_fb[\"Perc_Change_1d\"], test_size=0.33, random_state=42)\n",
    "apple_x_train, apple_x_test, apple_y_train, apple_y_test = train_test_split(df_apple.drop([\"Date\", \"Perc_Change_1d\"], axis=1), df_apple[\"Perc_Change_1d\"], test_size=0.33, random_state=42)\n",
    "msft_x_train, msft_x_test, msft_y_train, msft_y_test = train_test_split(df_msft.drop([\"Date\", \"Perc_Change_1d\"], axis=1), df_msft[\"Perc_Change_1d\"], test_size=0.33, random_state=42)\n"
   ]
  },
  {
   "cell_type": "code",
   "execution_count": 18,
   "metadata": {},
   "outputs": [
    {
     "data": {
      "text/plain": [
       "'\\n# Amazon Training and Testing Set\\namzn_x_train_stock_features = amzn_x_train.iloc[:,1:7]\\namzn_x_train_articles = amzn_x_train.iloc[:,7:]\\namzn_x_test_stock_features = amzn_x_test.iloc[:,1:7]\\namzn_x_test_articles = amzn_x_test.iloc[:,7:]\\n# Facebook Training and Testing Set\\nfb_x_train_stock_features = fb_x_train.iloc[:,1:7]\\nfb_x_train_articles = fb_x_train.iloc[:,7:]\\nfb_x_test_stock_features = fb_x_test.iloc[:,1:7]\\nfb_x_test_articles = fb_x_test.iloc[:,7:]\\n# Apple Training and Testing Set\\napple_x_train_stock_features = apple_x_train.iloc[:,1:7]\\napple_x_train_articles = apple_x_train.iloc[:,7:]\\napple_x_test_stock_features = apple_x_test.iloc[:,1:7]\\napple_x_test_articles = apple_x_test.iloc[:,7:]\\n# Microsoft Training and Testing Set\\nmsft_x_train_stock_features = msft_x_train.iloc[:,1:7]\\nmsft_x_train_articles = msft_x_train.iloc[:,7:]\\nmsft_x_test_stock_features = msft_x_test.iloc[:,1:7]\\nmsft_x_test_articles = msft_x_test.iloc[:,7:]\\n'"
      ]
     },
     "execution_count": 18,
     "metadata": {},
     "output_type": "execute_result"
    }
   ],
   "source": [
    "# Split the x_train and x_test into the articles and the financial features to be put into the model\n",
    "# Google Training and Testing Set\n",
    "goog_x_train_stock_features = goog_x_train.iloc[:,1:7]\n",
    "goog_x_train_articles = goog_x_train.iloc[:,7:]\n",
    "goog_x_test_stock_features = goog_x_test.iloc[:,1:7]\n",
    "goog_x_test_articles = goog_x_test.iloc[:,7:]\n",
    "# Amazon Training and Testing Set\n",
    "amzn_x_train_stock_features = amzn_x_train.iloc[:,1:7]\n",
    "amzn_x_train_articles = amzn_x_train.iloc[:,7:]\n",
    "amzn_x_test_stock_features = amzn_x_test.iloc[:,1:7]\n",
    "amzn_x_test_articles = amzn_x_test.iloc[:,7:]\n",
    "# Facebook Training and Testing Set\n",
    "fb_x_train_stock_features = fb_x_train.iloc[:,1:7]\n",
    "fb_x_train_articles = fb_x_train.iloc[:,7:]\n",
    "fb_x_test_stock_features = fb_x_test.iloc[:,1:7]\n",
    "fb_x_test_articles = fb_x_test.iloc[:,7:]\n",
    "# Apple Training and Testing Set\n",
    "apple_x_train_stock_features = apple_x_train.iloc[:,1:7]\n",
    "apple_x_train_articles = apple_x_train.iloc[:,7:]\n",
    "apple_x_test_stock_features = apple_x_test.iloc[:,1:7]\n",
    "apple_x_test_articles = apple_x_test.iloc[:,7:]\n",
    "# Microsoft Training and Testing Set\n",
    "msft_x_train_stock_features = msft_x_train.iloc[:,1:7]\n",
    "msft_x_train_articles = msft_x_train.iloc[:,7:]\n",
    "msft_x_test_stock_features = msft_x_test.iloc[:,1:7]\n",
    "msft_x_test_articles = msft_x_test.iloc[:,7:]"
   ]
  },
  {
   "cell_type": "code",
   "execution_count": 19,
   "metadata": {},
   "outputs": [
    {
     "data": {
      "text/plain": [
       "'\\namzn_x_train_stock_features_normalized = preprocessing.scale(amzn_x_train_stock_features) \\namzn_x_test_stock_features_normalized = preprocessing.scale(amzn_x_test_stock_features) \\n\\nfb_x_train_stock_features_normalized = preprocessing.scale(fb_x_train_stock_features) \\nfb_x_test_stock_features_normalized = preprocessing.scale(fb_x_test_stock_features) \\n\\napple_x_train_stock_features_normalized = preprocessing.scale(apple_x_train_stock_features) \\napple_x_test_stock_features_normalized = preprocessing.scale(apple_x_test_stock_features) \\n\\nmsft_x_train_stock_features_normalized = preprocessing.scale(msft_x_train_stock_features) \\nmsft_x_test_stock_features_normalized = preprocessing.scale(msft_x_test_stock_features) \\n'"
      ]
     },
     "execution_count": 19,
     "metadata": {},
     "output_type": "execute_result"
    }
   ],
   "source": [
    "# Normalize features so training is faster, also because the volume is much larger than the rest of the features\n",
    "from sklearn import preprocessing\n",
    "goog_x_train_stock_features_normalized = preprocessing.scale(goog_x_train_stock_features) \n",
    "goog_x_test_stock_features_normalized = preprocessing.scale(goog_x_test_stock_features) \n",
    "\n",
    "amzn_x_train_stock_features_normalized = preprocessing.scale(amzn_x_train_stock_features) \n",
    "amzn_x_test_stock_features_normalized = preprocessing.scale(amzn_x_test_stock_features) \n",
    "\n",
    "fb_x_train_stock_features_normalized = preprocessing.scale(fb_x_train_stock_features) \n",
    "fb_x_test_stock_features_normalized = preprocessing.scale(fb_x_test_stock_features) \n",
    "\n",
    "apple_x_train_stock_features_normalized = preprocessing.scale(apple_x_train_stock_features) \n",
    "apple_x_test_stock_features_normalized = preprocessing.scale(apple_x_test_stock_features) \n",
    "\n",
    "msft_x_train_stock_features_normalized = preprocessing.scale(msft_x_train_stock_features) \n",
    "msft_x_test_stock_features_normalized = preprocessing.scale(msft_x_test_stock_features) \n"
   ]
  },
  {
   "cell_type": "markdown",
   "metadata": {},
   "source": [
    "What is my Machine Learning Model?\n",
    "----\n",
    "I ran the word vectors into an LSTM, and appended them to the financial features to make a prediction about the percentage change for the day\n",
    "\n",
    "Building the Model\n",
    "---\n",
    "Here I am using Keras to built the LSTM model"
   ]
  },
  {
   "cell_type": "code",
   "execution_count": 38,
   "metadata": {},
   "outputs": [
    {
     "name": "stdout",
     "output_type": "stream",
     "text": [
      "Build model...\n"
     ]
    }
   ],
   "source": [
    "from keras.models import Sequential\n",
    "from keras.layers import Dense\n",
    "from keras.layers import Embedding\n",
    "from keras.layers import LSTM\n",
    "from keras.optimizers import Adam\n",
    "from keras.layers import recurrent\n",
    "from keras import layers\n",
    "from keras.models import Model\n",
    "\n",
    "EMBED_HIDDEN_SIZE = 50\n",
    "\n",
    "RNN = recurrent.LSTM\n",
    "\n",
    "print('Build model...')\n",
    "# Put articles into an LSTM\n",
    "articles = layers.Input(shape=(article_maxlen-1,), dtype='int32')\n",
    "encoded_articles = layers.Embedding(vocab_size, EMBED_HIDDEN_SIZE)(articles)\n",
    "encoded_articles = layers.Dropout(0.3)(encoded_articles)\n",
    "encoded_articles = RNN(EMBED_HIDDEN_SIZE)(encoded_articles)\n",
    "# Grab Stock Features \n",
    "stock_features = layers.Input(shape=(6,))\n",
    "# Concat the two layers\n",
    "merged = layers.concatenate([stock_features, encoded_articles])\n",
    "# Dense with one prediction for the percentage change\n",
    "pred = layers.Dense(1)(merged)\n",
    "# Create model\n",
    "model = Model([articles, stock_features], pred)\n",
    "model.compile(loss='mean_squared_error',\n",
    "              optimizer=Adam(lr=0.001),\n",
    "            )\n"
   ]
  },
  {
   "cell_type": "code",
   "execution_count": 39,
   "metadata": {
    "scrolled": true
   },
   "outputs": [
    {
     "name": "stdout",
     "output_type": "stream",
     "text": [
      "Training\n",
      "Train on 518 samples, validate on 28 samples\n",
      "Epoch 1/5\n",
      "518/518 [==============================] - 347s - loss: 0.0491 - val_loss: 0.0306\n",
      "Epoch 2/5\n",
      "518/518 [==============================] - 384s - loss: 0.0166 - val_loss: 0.0216\n",
      "Epoch 3/5\n",
      "518/518 [==============================] - 406s - loss: 0.0103 - val_loss: 0.0157\n",
      "Epoch 4/5\n",
      "518/518 [==============================] - 409s - loss: 0.0076 - val_loss: 0.0118\n",
      "Epoch 5/5\n",
      "518/518 [==============================] - 431s - loss: 0.0058 - val_loss: 0.0087\n"
     ]
    },
    {
     "data": {
      "text/plain": [
       "<keras.callbacks.History at 0x13352fa58>"
      ]
     },
     "execution_count": 39,
     "metadata": {},
     "output_type": "execute_result"
    }
   ],
   "source": [
    "BATCH_SIZE = 32\n",
    "EPOCHS = 5\n",
    "\n",
    "print('Training')\n",
    "\n",
    "model.fit([goog_x_train_articles.values, goog_x_train_stock_features_normalized], \n",
    "          goog_y_train.values,\n",
    "          batch_size=BATCH_SIZE,\n",
    "          epochs=EPOCHS,\n",
    "          validation_split=0.05)\n"
   ]
  },
  {
   "cell_type": "code",
   "execution_count": 73,
   "metadata": {
    "collapsed": true
   },
   "outputs": [],
   "source": [
    "from keras.models import load_model\n",
    "\n",
    "if not os.path.exists('saved_models'):\n",
    "        os.makedirs('saved_models')\n",
    "    \n",
    "model.save('saved_models/{}_model.h5'.format('GOOG'))  # creates a HDF5 file 'ticker'.h5'\n"
   ]
  },
  {
   "cell_type": "code",
   "execution_count": 769,
   "metadata": {
    "collapsed": true
   },
   "outputs": [],
   "source": [
    "model = load_model('saved_models/{}_model.h5'.format('GOOG'))"
   ]
  },
  {
   "cell_type": "code",
   "execution_count": 52,
   "metadata": {
    "collapsed": true
   },
   "outputs": [],
   "source": [
    "predict_x_stock_features = df_goog.iloc[:,3:9]\n",
    "predict_x_articles = df_goog.iloc[:,9:]\n",
    "goog_predict_x_stock_features_normalized = preprocessing.scale(predict_x_stock_features) "
   ]
  },
  {
   "cell_type": "code",
   "execution_count": 57,
   "metadata": {},
   "outputs": [],
   "source": [
    "prediction = model.predict([predict_x_articles.values.reshape(len(predict_x_articles),article_maxlen-1) , goog_predict_x_stock_features_normalized.reshape(len(goog_predict_x_stock_features_normalized),6)])\n"
   ]
  },
  {
   "cell_type": "code",
   "execution_count": 74,
   "metadata": {
    "collapsed": true
   },
   "outputs": [],
   "source": [
    "actual = df_goog.iloc[:,1]"
   ]
  },
  {
   "cell_type": "code",
   "execution_count": 75,
   "metadata": {},
   "outputs": [],
   "source": [
    "from matplotlib import pyplot as plt"
   ]
  },
  {
   "cell_type": "code",
   "execution_count": 82,
   "metadata": {},
   "outputs": [
    {
     "data": {
      "text/plain": [
       "<matplotlib.legend.Legend at 0x12ae39780>"
      ]
     },
     "execution_count": 82,
     "metadata": {},
     "output_type": "execute_result"
    },
    {
     "data": {
      "image/png": "[encoded data removed]",
      "text/plain": [
       "<matplotlib.figure.Figure at 0x12ab6bda0>"
      ]
     },
     "metadata": {},
     "output_type": "display_data"
    }
   ],
   "source": [
    "fig1, ax1 = plt.subplots(figsize=(15,5))\n",
    "plt.plot(prediction, label=\"Predicted\")\n",
    "plt.plot(actual, label=\"Actual\")\n",
    "plt.xlabel(\"Time from 2014-Present\")\n",
    "plt.ylabel(\"Percentage Change\")\n",
    "plt.title(\"Google Stock Percentage Change\")\n",
    "ax1.set_xticklabels([])\n",
    "plt.legend()"
   ]
  },
  {
   "cell_type": "markdown",
   "metadata": {
    "collapsed": true
   },
   "source": [
    "Conclusion\n",
    "---\n",
    "Althought the prediction was not very acurrate, it is most likely due to the lack of articles that were used and thus the model was unable to pick up an acurrate representation of the meaning of the words. For future work, it is important to make sure there is a reliable source of articles to be scraped or archived"
   ]
  },
  {
   "cell_type": "code",
   "execution_count": null,
   "metadata": {
    "collapsed": true
   },
   "outputs": [],
   "source": []
  }
 ],
 "metadata": {
  "kernelspec": {
   "display_name": "Python 3",
   "language": "python",
   "name": "python3"
  },
  "language_info": {
   "codemirror_mode": {
    "name": "ipython",
    "version": 3
   },
   "file_extension": ".py",
   "mimetype": "text/x-python",
   "name": "python",
   "nbconvert_exporter": "python",
   "pygments_lexer": "ipython3",
   "version": "3.6.1"
  }
 },
 "nbformat": 4,
 "nbformat_minor": 2
}
