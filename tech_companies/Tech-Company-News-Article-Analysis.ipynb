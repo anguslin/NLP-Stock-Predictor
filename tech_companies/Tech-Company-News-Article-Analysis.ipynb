{
 "cells": [
  {
   "cell_type": "code",
   "execution_count": 2,
   "metadata": {
    "collapsed": true
   },
   "outputs": [],
   "source": [
    "import newspaper \n"
   ]
  },
  {
   "cell_type": "code",
   "execution_count": 7,
   "metadata": {
    "collapsed": true
   },
   "outputs": [],
   "source": [
    "# Top Tech Companies\n",
    "ticker_tech_comp = ['GOOG', \"AMZN\", \"FB\", \"AAPL\", \"MSFT\"]\n",
    "tech_comp = [\"google\",\"amazon\",\"facebook\",\"apple\",\"microsoft\"]"
   ]
  },
  {
   "cell_type": "code",
   "execution_count": 28,
   "metadata": {
    "collapsed": true
   },
   "outputs": [],
   "source": [
    "# Prevents caching so that all articles are released\n",
    "techcrunch_paper = newspaper.build('https://techcrunch.com/', memoize_articles=False)"
   ]
  },
  {
   "cell_type": "code",
   "execution_count": null,
   "metadata": {
    "collapsed": true
   },
   "outputs": [],
   "source": [
    "# Create a dictionary from the tech company tickers, with none as the value of the keys\n",
    "tech_dict = dict.fromkeys(ticker_tech_comp, None)\n"
   ]
  },
  {
   "cell_type": "code",
   "execution_count": 51,
   "metadata": {},
   "outputs": [],
   "source": [
    "# Fill the dictionary with the first related news article found\n",
    "for article in techcrunch_paper.articles:\n",
    "    for company, company_ticker in zip(tech_comp, ticker_tech_comp):\n",
    "        if company in article.url:\n",
    "            if(tech_dict[company_ticker] == None):\n",
    "                tech_dict[company_ticker] = article.url"
   ]
  },
  {
   "cell_type": "code",
   "execution_count": 52,
   "metadata": {},
   "outputs": [
    {
     "data": {
      "text/plain": [
       "{'AAPL': 'https://techcrunch.com/gallery/everything-apple-announced-at-its-wwdc-keynote/',\n",
       " 'AMZN': 'https://techcrunch.com/2017/06/19/will-amazon-become-a-force-in-fintech/?ncid=rss',\n",
       " 'FB': 'https://techcrunch.com/2017/06/13/man-in-pakistan-sentenced-to-death-for-blasphemous-facebook-comments/?ncid=rss',\n",
       " 'GOOG': 'http://techcrunch.cn/2013/08/01/google-launches-new-ad-unit-for-responsive-sites/comment-page-1/',\n",
       " 'MSFT': 'https://techcrunch.com/2013/11/27/microsoft-brings-xbox-video-to-the-web-ahead-of-windows-phone-forgets-hd-playback/'}"
      ]
     },
     "execution_count": 52,
     "metadata": {},
     "output_type": "execute_result"
    }
   ],
   "source": [
    "tech_dict"
   ]
  },
  {
   "cell_type": "code",
   "execution_count": null,
   "metadata": {
    "collapsed": true
   },
   "outputs": [],
   "source": []
  },
  {
   "cell_type": "code",
   "execution_count": null,
   "metadata": {
    "collapsed": true
   },
   "outputs": [],
   "source": []
  }
 ],
 "metadata": {
  "kernelspec": {
   "display_name": "Python 3",
   "language": "python",
   "name": "python3"
  },
  "language_info": {
   "codemirror_mode": {
    "name": "ipython",
    "version": 3
   },
   "file_extension": ".py",
   "mimetype": "text/x-python",
   "name": "python",
   "nbconvert_exporter": "python",
   "pygments_lexer": "ipython3",
   "version": "3.6.1"
  }
 },
 "nbformat": 4,
 "nbformat_minor": 2
}
