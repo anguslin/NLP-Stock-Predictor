{
 "cells": [
  {
   "cell_type": "code",
   "execution_count": 1,
   "metadata": {
    "collapsed": true
   },
   "outputs": [],
   "source": [
    "import bs4 as bs\n",
    "import pickle\n",
    "import requests\n",
    "import datetime as dt\n",
    "import os\n",
    "import pandas as pd\n",
    "import pandas_datareader.data as web\n",
    "import numpy as np\n",
    "import matplotlib.pyplot as plt"
   ]
  },
  {
   "cell_type": "markdown",
   "metadata": {},
   "source": [
    "Collect stock data from google finance on the top tech companies in the United States of America"
   ]
  },
  {
   "cell_type": "code",
   "execution_count": 2,
   "metadata": {
    "collapsed": true
   },
   "outputs": [],
   "source": [
    "# Top Tech Companies\n",
    "ticker_tech_comp = ['GOOG', \"AMZN\", \"FB\", \"AAPL\", \"MSFT\"]\n",
    "tech_comp = [\"google\",\"amazon\",\"facebook\",\"apple\",\"microsoft\"]                "
   ]
  },
  {
   "cell_type": "code",
   "execution_count": 212,
   "metadata": {},
   "outputs": [
    {
     "name": "stdout",
     "output_type": "stream",
     "text": [
      "             Open   High    Low  Close  Volume\n",
      "Date                                          \n",
      "2004-08-19  49.96  51.98  47.93  50.12     NaN\n",
      "2004-08-20  50.69  54.49  50.20  54.10     NaN\n",
      "2004-08-23  55.32  56.68  54.47  54.65     NaN\n",
      "2004-08-24  55.56  55.74  51.73  52.38     NaN\n",
      "2004-08-25  52.43  53.95  51.89  52.95     NaN\n",
      "             Open   High    Low  Close    Volume\n",
      "Date                                            \n",
      "2001-07-26  11.67  12.75  11.23  12.43  10067400\n",
      "2001-07-27  12.33  12.43  11.70  12.25   8905600\n",
      "2001-07-30  12.21  12.75  11.98  12.55   4930900\n",
      "2001-07-31  12.64  12.86  12.33  12.49   4286800\n",
      "2001-08-01  12.73  12.86  12.17  12.50   5432100\n",
      "             Open   High    Low  Close     Volume\n",
      "Date                                             \n",
      "2012-05-17    NaN    NaN    NaN  38.00          0\n",
      "2012-05-18  42.05  45.00  38.00  38.23  580587742\n",
      "2012-05-21  36.53  36.66  33.00  34.03  168309831\n",
      "2012-05-22  32.61  33.59  30.94  31.00  102053826\n",
      "2012-05-23  31.37  32.50  31.36  32.00   73721135\n",
      "            Open  High   Low  Close    Volume\n",
      "Date                                         \n",
      "2001-07-26  1.32  1.34  1.28   1.33  89054000\n",
      "2001-07-27  1.34  1.38  1.32   1.35  81683000\n",
      "2001-07-30  1.37  1.38  1.32   1.35  60460400\n",
      "2001-07-31  1.38  1.39  1.32   1.34  57005200\n",
      "2001-08-01  1.36  1.41  1.35   1.36  74156600\n",
      "             Open   High    Low  Close    Volume\n",
      "Date                                            \n",
      "2001-07-26  33.56  33.66  32.75  33.30  75679400\n",
      "2001-07-27  33.02  33.12  32.53  32.74  63764200\n",
      "2001-07-30  32.82  33.44  32.77  32.90  41721800\n",
      "2001-07-31  33.00  33.70  32.92  33.09  57220400\n",
      "2001-08-01  33.40  33.41  32.88  33.24  53751600\n"
     ]
    }
   ],
   "source": [
    "for ticker in ticker_tech_comp:\n",
    "    print(web.DataReader(ticker, 'google', dt.datetime(2000,1,1), dt.date.today() - dt.timedelta(days=1)).head())\n",
    "         "
   ]
  },
  {
   "cell_type": "markdown",
   "metadata": {},
   "source": [
    "We can see that May 18, 2012 is the latest starting date for stock info. Since we want the size of our stock features to be the same for all of the companies, we will use 2012,5,18 as our starting date"
   ]
  },
  {
   "cell_type": "code",
   "execution_count": 276,
   "metadata": {},
   "outputs": [],
   "source": [
    "def get_data_from_google(tickers, reload=False):            \n",
    "    if not os.path.exists('tech_stock_dfs'):\n",
    "        os.makedirs('tech_stock_dfs')\n",
    "        \n",
    "    start = dt.datetime(2012,5,18)\n",
    "    end = dt.date.today() - dt.timedelta(days=1)\n",
    "    for ticker in tickers:\n",
    "        if reload is True or not os.path.exists('tech_stock_dfs/{}.csv'.format(ticker)):\n",
    "            df = web.DataReader(ticker, 'google', start, end)\n",
    "            df.to_csv('tech_stock_dfs/{}.csv'.format(ticker))\n",
    "        else:\n",
    "            print('Already have {}'.format(ticker))        "
   ]
  },
  {
   "cell_type": "code",
   "execution_count": 277,
   "metadata": {},
   "outputs": [],
   "source": [
    "get_data_from_google(ticker_tech_comp, reload=True)"
   ]
  },
  {
   "cell_type": "code",
   "execution_count": 281,
   "metadata": {},
   "outputs": [],
   "source": [
    "# Create a csv file with all the company close rates\n",
    "def compile_data(tickers):\n",
    "    # Create directory\n",
    "    if not os.path.exists('final_stock_features_dfs'):\n",
    "        os.makedirs('final_stock_features_dfs')\n",
    "        \n",
    "    for ticker in tickers:\n",
    "        df = pd.read_csv('tech_stock_dfs/{}.csv'.format(ticker))\n",
    "        vals = [dt.date.today(), 0, 0, 0, 0, 0]\n",
    "        labels = [\"Date\",\"Open\",\"High\",\"Low\", \"Close\", \"Volume\"]\n",
    "\n",
    "        # Add an additional row with todays date\n",
    "        today_df = pd.DataFrame(vals, index=labels)\n",
    "        today_df = today_df.as_matrix().reshape(1,6)\n",
    "        today_df = pd.DataFrame(today_df)\n",
    "        today_df.columns = labels\n",
    "        df = pd.concat([df, today_df], ignore_index=True)\n",
    "\n",
    "        # Engineer New Features\n",
    "        df[\"Open_Prev_1d\"] = (df['Open'].shift(1))\n",
    "        df[\"High_Prev_1d\"] = (df['High'].shift(1))\n",
    "        df[\"Low_Prev_1d\"] = (df['Low'].shift(1))\n",
    "        df[\"Close_Prev_1d\"] = (df['Close'].shift(1))\n",
    "        df[\"Volume_Prev_1d\"] = (df['Volume'].shift(1))\n",
    "        df['100_mov_avg'] = df['Close'].rolling(window=100, min_periods=0).mean()\n",
    "\n",
    "        # Calculate Percentage Change as target\n",
    "        df[\"Perc_Change_1d\"] = (df['Close']) - df['Close'].shift(1) \n",
    "        df = df[1:] # Drop first row so there is no division by 0\n",
    "        df[\"Perc_Change_1d\"] = df[\"Perc_Change_1d\"][:-1] / df['Close'][:-1]\n",
    "\n",
    "        # Drop first 100 days from moving average\n",
    "        df = df[100:]\n",
    "        \n",
    "        # Only save the columns used for the prediction\n",
    "        df.drop([\"Date\",\"Open\",\"High\",\"Low\",\"Close\",\"Volume\"],axis=1,inplace=True)\n",
    "        \n",
    "        # Drop any missing data other than the current day which we will predict on\n",
    "        if df[:-1].isnull().values.any() is True:\n",
    "            df[:-1].dropna(inplace=True)\n",
    "        \n",
    "        # Set Percentage change 1 day as the target\n",
    "        df.set_index('Perc_Change_1d', inplace=True)\n",
    "        \n",
    "        # Save as csv file\n",
    "        df.to_csv('final_stock_features_dfs/{}.csv'.format(ticker))"
   ]
  },
  {
   "cell_type": "code",
   "execution_count": 282,
   "metadata": {},
   "outputs": [],
   "source": [
    "compile_data(ticker_tech_comp)"
   ]
  },
  {
   "cell_type": "markdown",
   "metadata": {},
   "source": [
    "Finished Scraping Data, this notebook should be run each day as there as new stock information for the day will be released. Keep in mind that the last column is the one that the model after training will be tested on to predict the percentage change for the new day"
   ]
  },
  {
   "cell_type": "code",
   "execution_count": null,
   "metadata": {
    "collapsed": true
   },
   "outputs": [],
   "source": []
  }
 ],
 "metadata": {
  "kernelspec": {
   "display_name": "Python 3",
   "language": "python",
   "name": "python3"
  },
  "language_info": {
   "codemirror_mode": {
    "name": "ipython",
    "version": 3
   },
   "file_extension": ".py",
   "mimetype": "text/x-python",
   "name": "python",
   "nbconvert_exporter": "python",
   "pygments_lexer": "ipython3",
   "version": "3.6.1"
  }
 },
 "nbformat": 4,
 "nbformat_minor": 2
}
